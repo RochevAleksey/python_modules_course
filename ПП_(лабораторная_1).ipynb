{
  "nbformat": 4,
  "nbformat_minor": 0,
  "metadata": {
    "colab": {
      "provenance": []
    },
    "kernelspec": {
      "name": "python3",
      "display_name": "Python 3"
    },
    "language_info": {
      "name": "python"
    }
  },
  "cells": [
    {
      "cell_type": "markdown",
      "source": [
        "#Лабораторная работа 1. Питон. Быстрый старт\n",
        "\n"
      ],
      "metadata": {
        "id": "308Il3EpJJoQ"
      }
    },
    {
      "cell_type": "markdown",
      "source": [
        "**Цель**\n",
        "\n",
        "Начать программировать на Питон и освоить базовые понятия языка."
      ],
      "metadata": {
        "id": "CCHyK-OoZRHE"
      }
    },
    {
      "cell_type": "markdown",
      "source": [
        "**Выполнение**\n",
        "\n",
        "Работа выполняется в \"родной\" оболочке Питон (IDLE). Результатом аудиторной части работы является питон-файл с кодом, введенным в ходе работы. Код должен содержать все примеры и самостоятельные работы."
      ],
      "metadata": {
        "id": "NSeVqXO_Zr4U"
      }
    },
    {
      "cell_type": "markdown",
      "source": [
        "####Описание"
      ],
      "metadata": {
        "id": "CVPhbY-BeHQ9"
      }
    },
    {
      "cell_type": "markdown",
      "source": [
        "Первая лабораторная работа полностью выполняется в командной оболочке Питон.\n",
        "\n",
        "Запустите ***IDLE***. Для этого нажмите на Пуск, в списке программ найдите папку ***Python***, и из группы программ запустите ***IDLE (Python ...)***. На экране должно появиться окно оболочки Питон. Инструкции языка Питон вводятся в оболочку сразу после приглашения, которое состоит из трех стрелок вправо `>>>` после которых мигает курсор.\n",
        "\n",
        "Можно начинать работу.  \n",
        "\n"
      ],
      "metadata": {
        "id": "9JUZmdNkeN7j"
      }
    },
    {
      "cell_type": "markdown",
      "source": [
        "### Числа"
      ],
      "metadata": {
        "id": "Y3rCT8uTOY-D"
      }
    },
    {
      "cell_type": "markdown",
      "source": [
        "Введите в IDLE Shell следующую инструкцию."
      ],
      "metadata": {
        "id": "3u8vkNmzXEqJ"
      }
    },
    {
      "cell_type": "code",
      "source": [
        "googol = 10**100"
      ],
      "metadata": {
        "id": "rmuwQMCmL9JE"
      },
      "execution_count": null,
      "outputs": []
    },
    {
      "cell_type": "markdown",
      "source": [
        "Читаем написанное (слева направо)\n",
        "\n",
        "* `googol` - это **объект** (пока будем говорить переменная)\n",
        "* `=` - **оператор** присвоения\n",
        "* `10` - числовой **литерал**\n",
        "* `**` - **оператор** возведения в степень\n",
        "* `100` - числовой **литерал**\n",
        "* введена одна **инструкция**\n",
        "\n",
        "\n",
        "\n"
      ],
      "metadata": {
        "id": "my45vZwkROIu"
      }
    },
    {
      "cell_type": "markdown",
      "source": [
        "Посмотрим, что получили"
      ],
      "metadata": {
        "id": "aDknEPSMT_M-"
      }
    },
    {
      "cell_type": "code",
      "source": [
        "print(googol)"
      ],
      "metadata": {
        "colab": {
          "base_uri": "https://localhost:8080/"
        },
        "id": "YE3YWwKIRgpk",
        "outputId": "4ee61db6-ef6b-4f7b-c61f-38f8f589705c"
      },
      "execution_count": null,
      "outputs": [
        {
          "output_type": "stream",
          "name": "stdout",
          "text": [
            "10000000000000000000000000000000000000000000000000000000000000000000000000000000000000000000000000000\n"
          ]
        }
      ]
    },
    {
      "cell_type": "markdown",
      "source": [
        "Читаем написанное (слева направо)\n",
        "\n",
        "* `print()` - это **встроенная функция** (скобки важны!)\n",
        "* `googol` - в данном случае - **аргумент функции**\n",
        "* на выходе - число со 100 нулями (сомневающиеся могут посчитать)\n",
        "* введена одна **инструкция**\n",
        "\n",
        "\n"
      ],
      "metadata": {
        "id": "ozkDV8exUxyt"
      }
    },
    {
      "cell_type": "markdown",
      "source": [
        "> **Важно**\n",
        "\n",
        "\n",
        "---\n",
        "\n",
        "\n",
        "Прежде чем двигаться дальше, начните сохранять введенный код. Для этого в меню IDLE выберите ***File-Save*** и дайте файлу имя по правилу ***'Фамилия (лабораторная 1, аудиторка)'***. После завершения аудиторной части лабораторной работы этот файл надо будет сдать преподавателю."
      ],
      "metadata": {
        "id": "rkdj00ZRc5QO"
      }
    },
    {
      "cell_type": "markdown",
      "source": [
        "Пишем"
      ],
      "metadata": {
        "id": "ygSpMwpyX7v8"
      }
    },
    {
      "cell_type": "code",
      "source": [
        "Большое_число = 1e100"
      ],
      "metadata": {
        "id": "oinLTpzQY7WB"
      },
      "execution_count": null,
      "outputs": []
    },
    {
      "cell_type": "markdown",
      "source": [
        "Читаем написанное (только новое)\n",
        "\n",
        "* `1e100` - числовой литерал (другая форма записи)\n",
        "\n",
        "\n"
      ],
      "metadata": {
        "id": "UaD_PhuVZ9L_"
      }
    },
    {
      "cell_type": "markdown",
      "source": [
        "**Самостоятельно**\n",
        "\n",
        "> Выведите на экран `Большое_число`\n",
        "\n"
      ],
      "metadata": {
        "id": "qrhOln4Da4m3"
      }
    },
    {
      "cell_type": "markdown",
      "source": [
        "Введем целое число поменьше"
      ],
      "metadata": {
        "id": "7rolvq7ughbo"
      }
    },
    {
      "cell_type": "code",
      "source": [
        "byte = 0b100000000"
      ],
      "metadata": {
        "id": "fVbeoZ8ngmlE"
      },
      "execution_count": null,
      "outputs": []
    },
    {
      "cell_type": "markdown",
      "source": [
        "В данном случае справа числовой литерал записан в **двоичном формате**."
      ],
      "metadata": {
        "id": "Y5K-ce6-hZdf"
      }
    },
    {
      "cell_type": "code",
      "source": [
        "print(byte)"
      ],
      "metadata": {
        "colab": {
          "base_uri": "https://localhost:8080/"
        },
        "id": "SLosrkRXhLc-",
        "outputId": "7eeb9975-4394-4f47-c57d-c6cc9bfd5172"
      },
      "execution_count": null,
      "outputs": [
        {
          "output_type": "stream",
          "name": "stdout",
          "text": [
            "256\n"
          ]
        }
      ]
    },
    {
      "cell_type": "markdown",
      "source": [
        "По умолчанию числа выводятся в десятичном формате, независимо от того, в каком формате были введены."
      ],
      "metadata": {
        "id": "lM1xj-pQkFcy"
      }
    },
    {
      "cell_type": "markdown",
      "source": [
        "Если хочется увидеть двоичный формат, вводим"
      ],
      "metadata": {
        "id": "9pfz_WtxicQp"
      }
    },
    {
      "cell_type": "code",
      "source": [
        "print(bin(byte))"
      ],
      "metadata": {
        "colab": {
          "base_uri": "https://localhost:8080/"
        },
        "id": "_nXTbjKwiiGd",
        "outputId": "6a4ae685-91fa-4b6b-f71b-f1469edd9d08"
      },
      "execution_count": null,
      "outputs": [
        {
          "output_type": "stream",
          "name": "stdout",
          "text": [
            "0b100000000\n"
          ]
        }
      ]
    },
    {
      "cell_type": "markdown",
      "source": [
        "Введенная инструкция показывает, что агрументом функции может быть **выражение**. В данном случае выражение - это вызов другой встроенной инструкции  - `bin`, которая возвращает двоичное представление числа."
      ],
      "metadata": {
        "id": "n2HQwtuPjqoZ"
      }
    },
    {
      "cell_type": "markdown",
      "source": [
        "**Самостоятельно**\n",
        "\n",
        "> Получите двоичную форму `googol` в отдельную переменную. Имя новой переменной выберите сами.\n",
        "\n"
      ],
      "metadata": {
        "id": "8VXLDHvEi6Aj"
      }
    },
    {
      "cell_type": "markdown",
      "source": [
        "Пишем"
      ],
      "metadata": {
        "id": "tNMDCeBCjSl3"
      }
    },
    {
      "cell_type": "code",
      "source": [
        "a = 2"
      ],
      "metadata": {
        "id": "4Uxj1MszYFH-"
      },
      "execution_count": null,
      "outputs": []
    },
    {
      "cell_type": "markdown",
      "source": [
        "Вычислим $b = \\sqrt{a}$."
      ],
      "metadata": {
        "id": "X0bH2YMQks2N"
      }
    },
    {
      "cell_type": "code",
      "source": [
        "b = a**(1/2)"
      ],
      "metadata": {
        "id": "q3N_O6mZkmVS"
      },
      "execution_count": null,
      "outputs": []
    },
    {
      "cell_type": "markdown",
      "source": [
        "Извлечение квадратного корня произведено с помощью операции возведения в степень, потому что по умолчанию функции для извлечения корней в Питон нет."
      ],
      "metadata": {
        "id": "-xpNo7XjlElB"
      }
    },
    {
      "cell_type": "markdown",
      "source": [
        "**Самостоятельно**\n",
        "\n",
        "> Введите последнюю инструкцию, убрав скобки. Посмотрите результат. Подумайте над **приоритетом операций**.\n",
        "\n"
      ],
      "metadata": {
        "id": "oAM0JbkHlqeO"
      }
    },
    {
      "cell_type": "markdown",
      "source": [
        "Произведем обратное действие."
      ],
      "metadata": {
        "id": "unRrrXclleN1"
      }
    },
    {
      "cell_type": "code",
      "source": [
        "c = b**a"
      ],
      "metadata": {
        "id": "xTymRJYXksBT"
      },
      "execution_count": null,
      "outputs": []
    },
    {
      "cell_type": "markdown",
      "source": [
        "И выведем на экран все последние числа"
      ],
      "metadata": {
        "id": "YGpFFjNvl61W"
      }
    },
    {
      "cell_type": "code",
      "source": [
        "print(a, b, c)"
      ],
      "metadata": {
        "colab": {
          "base_uri": "https://localhost:8080/"
        },
        "id": "RQUkWiaMl5Mg",
        "outputId": "64a14ec0-3063-44f8-c0cd-1aac248c430c"
      },
      "execution_count": null,
      "outputs": [
        {
          "output_type": "stream",
          "name": "stdout",
          "text": [
            "2 1.4142135623730951 2.0000000000000004\n"
          ]
        }
      ]
    },
    {
      "cell_type": "markdown",
      "source": [
        "В данном случае важно правильно прочесть результат. Точка и наличие дробной части в последнем числе не случайно. Дело в том, что `a` и `c` теперь имеют разный **тип данных**.\n",
        "\n",
        "В Питон не надо заранее объявлять переменные и указывать их тип (как в Паскале, например), поскольку в Питон реализовано **динамическое определение типов**.\n",
        "\n",
        "Тип данных всегда можно посмотреть."
      ],
      "metadata": {
        "id": "vaRjNnjwliKR"
      }
    },
    {
      "cell_type": "code",
      "source": [
        "print(type(a), type(b), type(c))"
      ],
      "metadata": {
        "colab": {
          "base_uri": "https://localhost:8080/"
        },
        "id": "T1UcIFBqm1rF",
        "outputId": "c8525907-a855-4be6-8933-40b12a94afea"
      },
      "execution_count": null,
      "outputs": [
        {
          "output_type": "stream",
          "name": "stdout",
          "text": [
            "<class 'int'> <class 'float'> <class 'float'>\n"
          ]
        }
      ]
    },
    {
      "cell_type": "markdown",
      "source": [
        "Встроенная функция `type` возвращает тип переменной (слово `class` - очень важно, но об этом позже).\n",
        "\n",
        "В нашем расчете в результате ввода `a = 2` переменная `a` относится к целому типу данных. Результат извлечения корня `b` - к дробным (`float`). Выражение с использованием дробных чисел дает также дробный результат, хотя и близкий к целому значению."
      ],
      "metadata": {
        "id": "OEuKMSmZnMb0"
      }
    },
    {
      "cell_type": "markdown",
      "source": [
        "**Самостоятельно**\n",
        "\n",
        "> Выполните расчет, аналогичный предыдущему, но сделав `a` отрицательным. Выведите тип результата.\n",
        "\n"
      ],
      "metadata": {
        "id": "q_GyUf0ssUHW"
      }
    },
    {
      "cell_type": "markdown",
      "source": [
        "###Строки"
      ],
      "metadata": {
        "id": "ivo_5ZISOgYx"
      }
    },
    {
      "cell_type": "markdown",
      "source": [
        "Введите инструкцию"
      ],
      "metadata": {
        "id": "YSVJYoO2nhW9"
      }
    },
    {
      "cell_type": "code",
      "source": [
        "Google = 'Google'"
      ],
      "metadata": {
        "id": "EqxFCrs9OqNP"
      },
      "execution_count": null,
      "outputs": []
    },
    {
      "cell_type": "markdown",
      "source": [
        "В инструкции выше:\n",
        "\n",
        "* `Google` слева - имя переменной\n",
        "* `'Google'` справа - **строковый литерал** (кавычки важны!)"
      ],
      "metadata": {
        "id": "Kv4jkWFjohGe"
      }
    },
    {
      "cell_type": "markdown",
      "source": [
        "Введем еще одну строковую переменную."
      ],
      "metadata": {
        "id": "vcKBuvMvo9Pb"
      }
    },
    {
      "cell_type": "code",
      "source": [
        "Type = 'LLC'"
      ],
      "metadata": {
        "id": "iNqDHJXvf2Op"
      },
      "execution_count": null,
      "outputs": []
    },
    {
      "cell_type": "markdown",
      "source": [
        "И произведем операцию сложения строк."
      ],
      "metadata": {
        "id": "tqfW-qHipMIJ"
      }
    },
    {
      "cell_type": "code",
      "source": [
        "Full_Name = Google + ' ' + Type"
      ],
      "metadata": {
        "id": "77_OfGUWf6zJ"
      },
      "execution_count": null,
      "outputs": []
    },
    {
      "cell_type": "code",
      "source": [
        "print(Full_Name)"
      ],
      "metadata": {
        "colab": {
          "base_uri": "https://localhost:8080/"
        },
        "id": "nUOnu5rorWEB",
        "outputId": "c96ae4e9-38ab-4fa7-9700-cbb6f1385c13"
      },
      "execution_count": null,
      "outputs": [
        {
          "output_type": "stream",
          "name": "stdout",
          "text": [
            "Google LLC\n"
          ]
        }
      ]
    },
    {
      "cell_type": "markdown",
      "source": [
        "Выполненные инструкции иллюстируют понятие **полиморфизма операций** в Питон. Полиморфизм операций состоит в том, что одна и та же операция (в данном случае - сложение), применяется к разным типам данных."
      ],
      "metadata": {
        "id": "tJSt3jxupcFw"
      }
    },
    {
      "cell_type": "markdown",
      "source": [
        "**Самостоятельно**\n",
        "\n",
        "> Введите строковую переменную, содержащую ваше имя и фамилию (по-русски).\n"
      ],
      "metadata": {
        "id": "XcXck4THp_zb"
      }
    },
    {
      "cell_type": "markdown",
      "source": [
        "С точки зрения языка Питон, строки являются **последовательностями** символов, причем последовательностями **упорядочеными**. К упорядоченым последовательностям в Питон можно обращаться по номерам. Это иллюстрируют следующие инструкции."
      ],
      "metadata": {
        "id": "gjFVZ_4ArNBv"
      }
    },
    {
      "cell_type": "code",
      "source": [
        "print(Google[0])"
      ],
      "metadata": {
        "colab": {
          "base_uri": "https://localhost:8080/"
        },
        "id": "0NTsbB3dsM9W",
        "outputId": "557cb69c-90c4-46d8-bce9-2e74965e2106"
      },
      "execution_count": null,
      "outputs": [
        {
          "output_type": "stream",
          "name": "stdout",
          "text": [
            "G\n"
          ]
        }
      ]
    },
    {
      "cell_type": "markdown",
      "source": [
        "Нумерация **элементов в последовательностях** в Питон идет с нуля (доступ по смещению). Поэтому последний элемент в переменной `Google` будет иметь номер 5, т.е. отстоять на пять шагов от начального."
      ],
      "metadata": {
        "id": "i4O1JkJAscy6"
      }
    },
    {
      "cell_type": "code",
      "source": [
        "print(Google[5])"
      ],
      "metadata": {
        "colab": {
          "base_uri": "https://localhost:8080/"
        },
        "id": "RrK2Z5wzsZcZ",
        "outputId": "d2ec2fcb-f679-413d-8b63-442c32713aae"
      },
      "execution_count": null,
      "outputs": [
        {
          "output_type": "stream",
          "name": "stdout",
          "text": [
            "e\n"
          ]
        }
      ]
    },
    {
      "cell_type": "markdown",
      "source": [
        "Для определения длины последовательностей существует специальная функция."
      ],
      "metadata": {
        "id": "sJptXZS5twPH"
      }
    },
    {
      "cell_type": "code",
      "source": [
        "print(len(Google))"
      ],
      "metadata": {
        "colab": {
          "base_uri": "https://localhost:8080/"
        },
        "id": "Xk0pZX7Ht9I3",
        "outputId": "1589f1d5-ddf7-4295-959a-5ce1dfe611fa"
      },
      "execution_count": null,
      "outputs": [
        {
          "output_type": "stream",
          "name": "stdout",
          "text": [
            "6\n"
          ]
        }
      ]
    },
    {
      "cell_type": "markdown",
      "source": [
        "**Самостоятельно**\n",
        "\n",
        "> Определите длину вашего имени в символах.\n"
      ],
      "metadata": {
        "id": "0fJV4mzeuds9"
      }
    },
    {
      "cell_type": "markdown",
      "source": [
        "Поскольку строки - это упорядоченные последовательности, то по ним можно \"пройтись\" **счетным циклом** `for`."
      ],
      "metadata": {
        "id": "dPuFnIBHupWC"
      }
    },
    {
      "cell_type": "code",
      "source": [
        "for symbol in Google: print(symbol)"
      ],
      "metadata": {
        "colab": {
          "base_uri": "https://localhost:8080/"
        },
        "id": "bH7JWIgXu0ch",
        "outputId": "1760091d-7573-46ed-c98a-3fd4cd206a30"
      },
      "execution_count": null,
      "outputs": [
        {
          "output_type": "stream",
          "name": "stdout",
          "text": [
            "G\n",
            "o\n",
            "o\n",
            "g\n",
            "l\n",
            "e\n"
          ]
        }
      ]
    },
    {
      "cell_type": "markdown",
      "source": [
        "Читаем последнюю инструкцию:\n",
        "\n",
        "* `for` - **ключевое слово**\n",
        "* `symbol` - имя переменной, в которую один за другим будут извлекаться элементы последовательности (в данном случае - символы строки). Имя `symbol` - произвольно, можно написать и `x`.\n",
        "* `in` - еще одно ключевое слово\n",
        "* `Google` - имя последовательности, из которой будут извлекаться элементы\n",
        "* `:` - двоеточие открывает **составную инструкцию**\n",
        "* `print(symbol)` - инструкция, выполняемая внутри цикла."
      ],
      "metadata": {
        "id": "BM-Z3QYUxpS4"
      }
    },
    {
      "cell_type": "markdown",
      "source": [
        "Поскольку внутри введенного нами цикла выполяется только одна инструкция, то она записана в одну строку с **заголовом цикла**. Заголовок цикла это `for symbol in Google:`"
      ],
      "metadata": {
        "id": "EfNnZiydz9tV"
      }
    },
    {
      "cell_type": "markdown",
      "source": [
        "Усложним наш цикл, чтобы проиллюстрировать и упорядоченные последовательности и составную инструкцию."
      ],
      "metadata": {
        "id": "IoKBY91H01bR"
      }
    },
    {
      "cell_type": "markdown",
      "source": [
        "Перед повторным вводом инструкции с циклом, введем переменную, которая будет играть роль счетчика"
      ],
      "metadata": {
        "id": "Cn6QGh-f1Ns4"
      }
    },
    {
      "cell_type": "code",
      "source": [
        "i = 0"
      ],
      "metadata": {
        "id": "5047itmJ1YFB"
      },
      "execution_count": null,
      "outputs": []
    },
    {
      "cell_type": "markdown",
      "source": [
        "Теперь введем наш цикл повторно"
      ],
      "metadata": {
        "id": "D4BiaOf71b1B"
      }
    },
    {
      "cell_type": "code",
      "source": [
        "for symbol in Google:\n",
        "  print(symbol, ' номер:', i)\n",
        "  i = i+1"
      ],
      "metadata": {
        "colab": {
          "base_uri": "https://localhost:8080/"
        },
        "id": "WIqdP-ud1jwM",
        "outputId": "a7f7580b-d8aa-4ac3-f789-e66f7adce1ca"
      },
      "execution_count": null,
      "outputs": [
        {
          "output_type": "stream",
          "name": "stdout",
          "text": [
            "G  номер: 0\n",
            "o  номер: 1\n",
            "o  номер: 2\n",
            "g  номер: 3\n",
            "l  номер: 4\n",
            "e  номер: 5\n"
          ]
        }
      ]
    },
    {
      "cell_type": "markdown",
      "source": [
        "Теперь составная инструкция нашего цикла состоит из двух инструкций: в первой производится печать, во второй счетчик увеличивается на единицу. **Составная инструкция создается с помощью отступа**.\n",
        "\n",
        "Здесь важно запомнить, что переменная `i` не играет никакой роли с точки зрения выполнения цикла: **цикл идет не по индексу, а по элементам последовательности**."
      ],
      "metadata": {
        "id": "1rGkQvwT2HCK"
      }
    },
    {
      "cell_type": "markdown",
      "source": [
        "**Самостоятельно**\n",
        "\n",
        "> Выведите строковую переменную с вашим именем вертикально.\n",
        "\n",
        "\n"
      ],
      "metadata": {
        "id": "6MxVAG_s4AaQ"
      }
    },
    {
      "cell_type": "markdown",
      "source": [
        "Строки относятся к неизменямым последовательностям. Т.е. нельзя записать."
      ],
      "metadata": {
        "id": "fQqAp5X25V4X"
      }
    },
    {
      "cell_type": "code",
      "source": [
        "Google[0] = 'A'"
      ],
      "metadata": {
        "colab": {
          "base_uri": "https://localhost:8080/",
          "height": 165
        },
        "id": "F7J7FFGb5eHk",
        "outputId": "268ab216-5560-4edd-e932-8bdeba5a2999"
      },
      "execution_count": null,
      "outputs": [
        {
          "output_type": "error",
          "ename": "TypeError",
          "evalue": "ignored",
          "traceback": [
            "\u001b[0;31m---------------------------------------------------------------------------\u001b[0m",
            "\u001b[0;31mTypeError\u001b[0m                                 Traceback (most recent call last)",
            "\u001b[0;32m<ipython-input-22-7f3bb9b209ef>\u001b[0m in \u001b[0;36m<cell line: 1>\u001b[0;34m()\u001b[0m\n\u001b[0;32m----> 1\u001b[0;31m \u001b[0mGoogle\u001b[0m\u001b[0;34m[\u001b[0m\u001b[0;36m0\u001b[0m\u001b[0;34m]\u001b[0m \u001b[0;34m=\u001b[0m \u001b[0;34m'A'\u001b[0m\u001b[0;34m\u001b[0m\u001b[0;34m\u001b[0m\u001b[0m\n\u001b[0m",
            "\u001b[0;31mTypeError\u001b[0m: 'str' object does not support item assignment"
          ]
        }
      ]
    },
    {
      "cell_type": "markdown",
      "source": [
        "###Списки"
      ],
      "metadata": {
        "id": "6_beH86ntzB6"
      }
    },
    {
      "cell_type": "markdown",
      "source": [
        "Соберем все наши числа в одну последовательность"
      ],
      "metadata": {
        "id": "QciLd9nA6P2X"
      }
    },
    {
      "cell_type": "code",
      "source": [
        "R = [googol, byte, Большое_число, a, b, c]"
      ],
      "metadata": {
        "id": "GbOkOmOn6UWR"
      },
      "execution_count": null,
      "outputs": []
    },
    {
      "cell_type": "markdown",
      "source": [
        "Мы ввели **список**. Списки вводятся в квадратных скобках, а их элементы разделяются запятыми. Не обязательно, конечно, вводить элементы через имена переменных, можно просто числа.\n"
      ],
      "metadata": {
        "id": "gLdSEq_X7pvg"
      }
    },
    {
      "cell_type": "markdown",
      "source": [
        "**Самостоятельно**\n",
        "\n",
        "> Сформируйте список `S`, содержащий все строки, которые мы ввели ранее\n",
        "\n",
        "\n"
      ],
      "metadata": {
        "id": "b1HH0GKE-cty"
      }
    },
    {
      "cell_type": "markdown",
      "source": [
        "Списки: **упорядочены**, **изменяемы**, **гетерогенны**."
      ],
      "metadata": {
        "id": "g406h6KP-YCO"
      }
    },
    {
      "cell_type": "markdown",
      "source": [
        "С первым свойством мы уже знакомы по строкам. Проиллюстрируем второе"
      ],
      "metadata": {
        "id": "wtctDw1e8WGE"
      }
    },
    {
      "cell_type": "code",
      "source": [
        "R[5] = 2"
      ],
      "metadata": {
        "id": "CiL77J2a8p1-"
      },
      "execution_count": null,
      "outputs": []
    },
    {
      "cell_type": "markdown",
      "source": [
        "В последней инструкции мы заменили последний элемент спиcка R, где хранилось значение `c`. Теперь там хранится целое значение 2, взамен дробного."
      ],
      "metadata": {
        "id": "b37MWV5A8-ta"
      }
    },
    {
      "cell_type": "markdown",
      "source": [
        "Список `R` хотя и хранит только числа, но относятся они к разным типам. Это и есть гетерогенность списков - они позволяют хранить данные разных типов. Можно добавить и строки.\n",
        "\n",
        "Если мы мопробуем добавить элемент в список путем сложения, то получим ошибку."
      ],
      "metadata": {
        "id": "dlUf4CxjnIHG"
      }
    },
    {
      "cell_type": "code",
      "source": [
        "R = R + Google"
      ],
      "metadata": {
        "id": "fb7EnBTSnpDl",
        "colab": {
          "base_uri": "https://localhost:8080/",
          "height": 165
        },
        "outputId": "9e7c4efc-dce3-4a72-af15-f646ce7af176"
      },
      "execution_count": null,
      "outputs": [
        {
          "output_type": "error",
          "ename": "TypeError",
          "evalue": "ignored",
          "traceback": [
            "\u001b[0;31m---------------------------------------------------------------------------\u001b[0m",
            "\u001b[0;31mTypeError\u001b[0m                                 Traceback (most recent call last)",
            "\u001b[0;32m<ipython-input-25-1a84ff1349db>\u001b[0m in \u001b[0;36m<cell line: 1>\u001b[0;34m()\u001b[0m\n\u001b[0;32m----> 1\u001b[0;31m \u001b[0mR\u001b[0m \u001b[0;34m=\u001b[0m \u001b[0mR\u001b[0m \u001b[0;34m+\u001b[0m \u001b[0mGoogle\u001b[0m\u001b[0;34m\u001b[0m\u001b[0;34m\u001b[0m\u001b[0m\n\u001b[0m",
            "\u001b[0;31mTypeError\u001b[0m: can only concatenate list (not \"str\") to list"
          ]
        }
      ]
    },
    {
      "cell_type": "markdown",
      "source": [
        "Попробуем иначе"
      ],
      "metadata": {
        "id": "OqX8N8WqoBJn"
      }
    },
    {
      "cell_type": "code",
      "source": [
        "R = R + [Google]"
      ],
      "metadata": {
        "id": "uTYjMR2bn_5Y"
      },
      "execution_count": null,
      "outputs": []
    },
    {
      "cell_type": "code",
      "source": [
        "print(R)"
      ],
      "metadata": {
        "id": "QLEdgAEboJah",
        "colab": {
          "base_uri": "https://localhost:8080/"
        },
        "outputId": "4cec016f-043e-487a-cdf6-0d1d8ffc771a"
      },
      "execution_count": null,
      "outputs": [
        {
          "output_type": "stream",
          "name": "stdout",
          "text": [
            "[10000000000000000000000000000000000000000000000000000000000000000000000000000000000000000000000000000, 256, 1e+100, 2, 1.4142135623730951, 2, 'Google']\n"
          ]
        }
      ]
    },
    {
      "cell_type": "markdown",
      "source": [
        "Удалить элемент из списка таким образом (путем вычитания) не получится, поскольку операция вычитания для списков не определена."
      ],
      "metadata": {
        "id": "X_d8zClfo-xV"
      }
    },
    {
      "cell_type": "markdown",
      "source": [
        "Если элементом списка является упорядоченная последовательность, то можно получить доступ к элементу этой последовательности. Например, чтобы получить доступ к последему символу строки `Google`, которая сейчас находится в последнем элементе списка `R`, можно записать"
      ],
      "metadata": {
        "id": "yJTJVYDzr-p2"
      }
    },
    {
      "cell_type": "code",
      "source": [
        "print(R[6][5])"
      ],
      "metadata": {
        "id": "dKwP0PlxsL0e",
        "colab": {
          "base_uri": "https://localhost:8080/"
        },
        "outputId": "70a115a1-ee9d-4929-a74e-f97a23793672"
      },
      "execution_count": null,
      "outputs": [
        {
          "output_type": "stream",
          "name": "stdout",
          "text": [
            "e\n"
          ]
        }
      ]
    },
    {
      "cell_type": "markdown",
      "source": [
        "**Самостоятельно**\n",
        "\n",
        "> Выведите на экран первый символ последнего элемента списка `S`\n",
        "\n",
        "\n"
      ],
      "metadata": {
        "id": "JO34MhpLtMBX"
      }
    },
    {
      "cell_type": "markdown",
      "source": [
        "###Итог работы"
      ],
      "metadata": {
        "id": "gMDLRCSlZKE-"
      }
    },
    {
      "cell_type": "markdown",
      "source": [
        "Сохрание файл работы в оболочке с именем ***'Фамилия (лабораторная 1, аудиторка)'***"
      ],
      "metadata": {
        "id": "16YMJUDQqrIP"
      }
    },
    {
      "cell_type": "markdown",
      "source": [
        "По ссылке\n",
        "\n",
        "https://drive.google.com/drive/folders/11FMPJOTj8cTqxha0GxGaNBe2Mkq8LM8E?usp=sharing\n",
        "\n",
        "находится папка для лабораторных работ. Зайдите в папку вашей группы и выгрузите ваш файл."
      ],
      "metadata": {
        "id": "wlmtWkwzqTHq"
      }
    },
    {
      "cell_type": "markdown",
      "source": [
        "###Домашка"
      ],
      "metadata": {
        "id": "qjUnBPTkY5_3"
      }
    },
    {
      "cell_type": "markdown",
      "source": [
        "Читаем\n",
        "\n",
        "\n",
        "---\n",
        "\n",
        "\n"
      ],
      "metadata": {
        "id": "KpLmBo36-rrY"
      }
    },
    {
      "cell_type": "markdown",
      "source": [
        "\n",
        "\n",
        "* [Лутц М. Изучаем Python, 3-е издание – Пер. с англ. – СПб.: Символ-Плюс, 2009.](https://disk.yandex.ru/i/VR9elefyR0Ig8Q) - минимум до страницы 123, лучше - главы I и II."
      ],
      "metadata": {
        "id": "Eu6enr8738Me"
      }
    },
    {
      "cell_type": "markdown",
      "source": [
        "Пишем\n",
        "\n",
        "\n",
        "---\n",
        "\n",
        "\n"
      ],
      "metadata": {
        "id": "TsviW_FD-tAw"
      }
    },
    {
      "cell_type": "markdown",
      "source": [
        "####Вариант 1"
      ],
      "metadata": {
        "id": "jikXxMd8JTCI"
      }
    },
    {
      "cell_type": "markdown",
      "source": [
        "Возьмите номер своей зачетной книжки. Выполните в оболочке IDLE следующие действия:\n",
        "\n",
        "1. Введите переменную, равную номеру зачетной книжки как строку\n",
        "\n",
        "2. С помощью введенной переменной сформируйте список, в котором элеменами являются все цифры шифра, следующие друг за другом. Цифры должны храниться в списке в целом формате.\n",
        "\n",
        "3. Посчитайте сумму всех цифр шифра\n",
        "\n",
        "4. Получите двоичное представление шифра как целого числа.\n",
        "\n",
        "5. Определите число байт, необходимых для хранения шифра как целого числа.\n",
        "\n",
        "\n",
        "Полученный файл выгрузите в ту же папку, куда выгружали аудиторку. Имя файла ***'Фамилия (лабораторная 1, домашка)'***"
      ],
      "metadata": {
        "id": "5ESe-56cxqWg"
      }
    },
    {
      "cell_type": "markdown",
      "source": [
        "####Вариант 2"
      ],
      "metadata": {
        "id": "vuQbqIP0JYCo"
      }
    },
    {
      "cell_type": "markdown",
      "source": [
        "Посчитайте разницу между `googol` и `Большое_число`. Проверьте условие равенства этих чисел (оператор `==`). Подумайте над результатом."
      ],
      "metadata": {
        "id": "Vgn1ctuBMZ0L"
      }
    }
  ]
}