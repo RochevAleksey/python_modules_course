{
  "nbformat": 4,
  "nbformat_minor": 0,
  "metadata": {
    "colab": {
      "provenance": [],
      "authorship_tag": "ABX9TyMtOwnT9rORsKFui/qSR3rG",
      "include_colab_link": true
    },
    "kernelspec": {
      "name": "python3",
      "display_name": "Python 3"
    },
    "language_info": {
      "name": "python"
    }
  },
  "cells": [
    {
      "cell_type": "markdown",
      "metadata": {
        "id": "view-in-github",
        "colab_type": "text"
      },
      "source": [
        "<a href=\"https://colab.research.google.com/github/RochevAleksey/python_modules_course/blob/main/%D0%9F%D0%9F_(%D0%BB%D0%B0%D0%B1%D0%BE%D1%80%D0%B0%D1%82%D0%BE%D1%80%D0%BD%D0%B0%D1%8F_2).ipynb\" target=\"_parent\"><img src=\"https://colab.research.google.com/assets/colab-badge.svg\" alt=\"Open In Colab\"/></a>"
      ]
    },
    {
      "cell_type": "markdown",
      "source": [
        "#Лабораторная работа 2. Структурное программирование и внешние модули"
      ],
      "metadata": {
        "id": "8qMkGUMiJuXo"
      }
    },
    {
      "cell_type": "markdown",
      "source": [
        "**Цель**\n",
        "\n",
        "Освоение базовых способов структурирования кода и знакомство с внешними модулями."
      ],
      "metadata": {
        "id": "cJr5GvxWVfbJ"
      }
    },
    {
      "cell_type": "markdown",
      "source": [
        "**Выполнение**\n",
        "\n",
        "Работа выполняется в редакторе кода. Результатом аудиторной части работы является питон-файл с кодом, введенным в ходе работы. Код должен содержать все примеры и самостоятельные работы."
      ],
      "metadata": {
        "id": "d_W4tKZ2V5mv"
      }
    },
    {
      "cell_type": "markdown",
      "source": [
        "####Описание"
      ],
      "metadata": {
        "id": "CVPhbY-BeHQ9"
      }
    },
    {
      "cell_type": "markdown",
      "source": [
        "Запустите ***IDLE***. В главном меню выберите  ***File-New File***. На экране должно появиться окно редактора кода.\n",
        "\n",
        "Можно начинать работу.  \n",
        "\n"
      ],
      "metadata": {
        "id": "9JUZmdNkeN7j"
      }
    },
    {
      "cell_type": "markdown",
      "source": [
        "###Постановка задачи"
      ],
      "metadata": {
        "id": "HVzX0Y0TV2DN"
      }
    },
    {
      "cell_type": "markdown",
      "source": [
        "К исследованиям подготовлено несколько образцов керна, сведения о которых приведены в таблице ниже."
      ],
      "metadata": {
        "id": "blG4cguR0LJM"
      }
    },
    {
      "cell_type": "markdown",
      "source": [
        "|Образец|Скважина|Длина, мм|Диаметр, мм|Масса, г|\n",
        "|-|-|-|-|-|\n",
        "|10|N-2H|58.57|28.34|69.3321|\n",
        "|1-I|413ОЦ|46.40|28.08|65.5345|\n",
        "|34|410ОЦ|38.80|30.23|64.8092|"
      ],
      "metadata": {
        "id": "osX-HKbd1wVu"
      }
    },
    {
      "cell_type": "markdown",
      "source": [
        "Необходимо рассчитать площадь поперечного сечения, объем и объемную плотность образцов."
      ],
      "metadata": {
        "id": "QomuGjZQ0fV7"
      }
    },
    {
      "cell_type": "markdown",
      "source": [
        "###Решение с помощью списков"
      ],
      "metadata": {
        "id": "k6k5NRR9WoL6"
      }
    },
    {
      "cell_type": "markdown",
      "source": [
        "Введем исходные данные в виде списков."
      ],
      "metadata": {
        "id": "0fWIXmgh3kr2"
      }
    },
    {
      "cell_type": "code",
      "execution_count": null,
      "metadata": {
        "id": "wUnQq8g1Jmfk"
      },
      "outputs": [],
      "source": [
        "ID = ['10', '1-I', '34']\n",
        "length = [58.57, 46.40, 38.80]\n",
        "diam = [28.34, 28.08, 30.23]\n",
        "mass = [69.3321, 65.5345, 64.8092]\n",
        "wells = ['N-2H', '413ОЦ', '410ОЦ']"
      ]
    },
    {
      "cell_type": "markdown",
      "source": [
        "Проведем расчет площади с помощью цикла `for`. Пищем"
      ],
      "metadata": {
        "id": "3jXNJ4kj6IrN"
      }
    },
    {
      "cell_type": "code",
      "source": [
        "area = [] #здесь будем хранить площади образцов\n",
        "for d in diam:\n",
        "  a = 3.14*d**2/4\n",
        "  area.append(a)\n",
        "print(area)"
      ],
      "metadata": {
        "colab": {
          "base_uri": "https://localhost:8080/"
        },
        "id": "rGa04PBM6GbA",
        "outputId": "87d91229-8f56-4b26-d92a-0f20c846286d"
      },
      "execution_count": null,
      "outputs": [
        {
          "output_type": "stream",
          "name": "stdout",
          "text": [
            "[630.477146, 618.961824, 717.3745265]\n"
          ]
        }
      ]
    },
    {
      "cell_type": "markdown",
      "source": [
        "Читаем написанное (только новое)\n",
        "\n",
        "* `area = [] #здесь будем хранить площади образцов` - в этой инструкции создаем пустой список, в котором будем хранить площади образцов. После символа `#` идет однострочный **комментарий**\n",
        "* `area.append(a)` - в этои инструкции, расположенной внутри составной инструкции оператора `for` вызывается **метод** списков `append`, который добавляет элемент в конец списка.\n",
        "* `print(area)` - инструкция введена на основном уровне, поэтому выполняетя после цикла и печатает весь список.\n"
      ],
      "metadata": {
        "id": "u86skGF02nbK"
      }
    },
    {
      "cell_type": "markdown",
      "source": [
        "**Самостоятельно**\n",
        "\n",
        "> Сформируйте новый список с длинами образцов в сантиметрах.\n",
        "\n"
      ],
      "metadata": {
        "id": "qrhOln4Da4m3"
      }
    },
    {
      "cell_type": "markdown",
      "source": [
        "В приведенном выше расчете точность константы $\\pi$ ниже чем точность измерения линейных размеров обраца (сравните число значащих цифр).\n",
        "\n",
        "По умолчанию в Питон отсутствует большинство математических функций и констант. Поэтому для проведения даже базовых математических расчетов необходимо воспользоваться **внешним модулем**."
      ],
      "metadata": {
        "id": "juttBRVyXVCx"
      }
    },
    {
      "cell_type": "markdown",
      "source": [
        "Пишем"
      ],
      "metadata": {
        "id": "O7gE5DzgY6g6"
      }
    },
    {
      "cell_type": "code",
      "source": [
        "from math import pi"
      ],
      "metadata": {
        "id": "17sXGxwLAxkK"
      },
      "execution_count": null,
      "outputs": []
    },
    {
      "cell_type": "markdown",
      "source": [
        "Читаем\n",
        "\n",
        "* `from` - ключевое слово\n",
        "* `math` - имя внешнего модуля. В данном случае используется внешний модуль, поставляемый вместе с Питон\n",
        "* `import` - ключевое слово\n",
        "* `pi` - имя объекта, который импортируется из модуля. В данном случае импортируется константа, но могут импортироваться и функции."
      ],
      "metadata": {
        "id": "K2QHG0DXY92C"
      }
    },
    {
      "cell_type": "markdown",
      "source": [
        "**Самостоятельно**\n",
        "\n",
        "> Проверьте тип данных объекта `pi`\n",
        "\n"
      ],
      "metadata": {
        "id": "Ai9rfIFQa-oJ"
      }
    },
    {
      "cell_type": "markdown",
      "source": [
        "Для генерации списков в Питон есть более изящное средство - **генератор списков**.\n",
        "\n",
        "Пишем"
      ],
      "metadata": {
        "id": "hijQG0iPbcNE"
      }
    },
    {
      "cell_type": "code",
      "source": [
        "area = [pi*d**2/4 for d in diam]"
      ],
      "metadata": {
        "id": "XGDj7eUuAuBF"
      },
      "execution_count": null,
      "outputs": []
    },
    {
      "cell_type": "markdown",
      "source": [
        "Читаем\n",
        "\n",
        "* `area` - имя генерируемого списка\n",
        "* `[]` - синтаксический признак генерации списка\n",
        "* `for d in diam` - счетный цикл\n",
        "* `pi*d**2/4` - выражение, по которому формируются элементы списка."
      ],
      "metadata": {
        "id": "sCm40bbXd_rA"
      }
    },
    {
      "cell_type": "code",
      "source": [
        "print(area)"
      ],
      "metadata": {
        "colab": {
          "base_uri": "https://localhost:8080/"
        },
        "id": "jD8R-ib_A_pd",
        "outputId": "4f52da48-8753-4e6c-88b3-fad370b5eddf"
      },
      "execution_count": null,
      "outputs": [
        {
          "output_type": "stream",
          "name": "stdout",
          "text": [
            "[630.7969331623756, 619.2757704238657, 717.7383892754319]\n"
          ]
        }
      ]
    },
    {
      "cell_type": "markdown",
      "source": [
        "Рассчитаем объемную плотность образцов."
      ],
      "metadata": {
        "id": "O-pDrzYg5XRL"
      }
    },
    {
      "cell_type": "code",
      "source": [
        "dens = [mass[i]/(area[i]*length[i]) for i in range(len(area))]"
      ],
      "metadata": {
        "id": "dCz_9Kh4HmTb"
      },
      "execution_count": null,
      "outputs": []
    },
    {
      "cell_type": "markdown",
      "source": [
        "В данном случае, поскольку в расчете участвует несколько списков, можно воспользоваться счетчиком. Функция `range()` создает последовательность целых чисел."
      ],
      "metadata": {
        "id": "NC7FP_WY5eVa"
      }
    },
    {
      "cell_type": "code",
      "source": [
        "print(dens)"
      ],
      "metadata": {
        "colab": {
          "base_uri": "https://localhost:8080/"
        },
        "id": "F6qsn5cGIpDL",
        "outputId": "8d9f6d78-0353-48aa-c138-674cc680d107"
      },
      "execution_count": null,
      "outputs": [
        {
          "output_type": "stream",
          "name": "stdout",
          "text": [
            "[0.0018765906905210852, 0.002280698733862188, 0.002327227066496752]\n"
          ]
        }
      ]
    },
    {
      "cell_type": "markdown",
      "source": [
        "**Самостоятельно**\n",
        "\n",
        "> Сформируйте список объемов образцов с помощью генератора списка\n",
        "\n"
      ],
      "metadata": {
        "id": "6In6lw7ReyZH"
      }
    },
    {
      "cell_type": "markdown",
      "source": [
        "У обрацов измерена проницаемость. Внесем ее отдельным списком."
      ],
      "metadata": {
        "id": "fYf58a9ap4q_"
      }
    },
    {
      "cell_type": "code",
      "source": [
        "perm = [320.1, 450.3, 540.5]"
      ],
      "metadata": {
        "id": "V_xWY555zn5Y"
      },
      "execution_count": null,
      "outputs": []
    },
    {
      "cell_type": "markdown",
      "source": [
        "Необходимо рассчитать пропускную способность образцов по жидкости."
      ],
      "metadata": {
        "id": "3z5lvXIOqY9K"
      }
    },
    {
      "cell_type": "markdown",
      "source": [
        "Пропускную способность будем считать по закону Дарси\n",
        "\n",
        "$$q = A\\cdot \\frac{k}{\\mu}\\frac{\\Delta p }{L}$$\n",
        "\n",
        "где $A$ - площадь, $k$ - проницаемость, $\\mu$ - вязкость жидкости, $L$ - длина образца, $\\Delta p$ - перепад давления на образце."
      ],
      "metadata": {
        "id": "y1Ug8qawqy7P"
      }
    },
    {
      "cell_type": "markdown",
      "source": [
        "Очевидно, что расчет можно провести с помощью генератора циклов. Однако более целесообразно в данном случае объявить **функцию**."
      ],
      "metadata": {
        "id": "izfJPPtQ8Tok"
      }
    },
    {
      "cell_type": "markdown",
      "source": [
        "Пишем"
      ],
      "metadata": {
        "id": "uncANUCU8uP7"
      }
    },
    {
      "cell_type": "code",
      "source": [
        "def rate(k, l, d, mu, dp):\n",
        "  v = k*1e-15/(mu*1e-3)*(dp*1e5/(l*1e-3))\n",
        "  q = pi*(d*1e-3)**2/4*v\n",
        "  return q"
      ],
      "metadata": {
        "id": "vF1bnLtjJJx0"
      },
      "execution_count": null,
      "outputs": []
    },
    {
      "cell_type": "markdown",
      "source": [
        "Читаем\n",
        "\n",
        "* `def` - инструкция обьявления функции\n",
        "* `rate` - имя функции\n",
        "* `()` - скобки для **списка аргументов**\n",
        "* `k, l, s, mu, dp` - аргументы функции\n",
        "* `:` - двоеточие открывает составную инструкцию\n",
        "* `def rate(k, l, s, mu, dp):` - заголовок функции\n",
        "* `v = k*1e-15/(mu*1e-3)*(dp*1e5/(l*1e-3)` - первая инструкция составной инструкции (множители введены для перевода в систему СИ)\n",
        "* `q = pi*(d*1e-3)**2/4*v` - вторая инструкция тела функции\n",
        "* `return` - передает объект результата вызывающей программе\n",
        "* `q` - возвращаемый функцией объект результата работы функции.\n"
      ],
      "metadata": {
        "id": "sWh2qLKJ-mr1"
      }
    },
    {
      "cell_type": "markdown",
      "source": [
        "Вызовем нашу функцию для первого образца"
      ],
      "metadata": {
        "id": "MWi7p8ijzGMx"
      }
    },
    {
      "cell_type": "code",
      "source": [
        "x = rate(perm[0], length[0], diam[0], 1, 1)\n",
        "print(x)"
      ],
      "metadata": {
        "colab": {
          "base_uri": "https://localhost:8080/"
        },
        "id": "CLfUWW-kzKYJ",
        "outputId": "25e790d2-a969-4430-d01d-2b49c3187ec3"
      },
      "execution_count": null,
      "outputs": [
        {
          "output_type": "stream",
          "name": "stdout",
          "text": [
            "3.4474662507303483e-07\n"
          ]
        }
      ]
    },
    {
      "cell_type": "markdown",
      "source": [
        "В данном случае при вызове функции мы перечислили входные агрументы функции в том порядке, в котором они следуют в заголовке функции. Это называется **позиционным указанием аргументов**."
      ],
      "metadata": {
        "id": "hF4ZZy3f2QLe"
      }
    },
    {
      "cell_type": "markdown",
      "source": [
        "Питон допускает **передачу аргументов с указанием имен**. В этом случае вызов функции будет следующим"
      ],
      "metadata": {
        "id": "YPjmX4Ng3JLM"
      }
    },
    {
      "cell_type": "code",
      "source": [
        "x = rate(mu = 1, dp = 1, l = length[1], k = perm[1],  d = diam[1])\n",
        "print(x)"
      ],
      "metadata": {
        "colab": {
          "base_uri": "https://localhost:8080/"
        },
        "id": "qZB5pu7e4Eqg",
        "outputId": "c5e9a561-52cf-47d5-aee3-b8c2afe493a6"
      },
      "execution_count": null,
      "outputs": [
        {
          "output_type": "stream",
          "name": "stdout",
          "text": [
            "6.009911194436783e-07\n"
          ]
        }
      ]
    },
    {
      "cell_type": "markdown",
      "source": [
        "Обратите внимание, что порядок указания имен может и не совпадать с порядков перечисления аргументов в функции."
      ],
      "metadata": {
        "id": "8_Vx-WCZ49PG"
      }
    },
    {
      "cell_type": "markdown",
      "source": [
        "Также синтаксис обьявлений функций в Питон допускает задание **значений по умолчанию** для аргументов функции. Например, для нашей функции мы может предположить, что расчет пропускной способности образцов производится для воды при единичном перепаде давления, тогда функцию лучше обьявить следующим образом."
      ],
      "metadata": {
        "id": "5j3bU2uH5HkO"
      }
    },
    {
      "cell_type": "code",
      "source": [
        "def rate(k, l, d, mu = 1, dp = 1):\n",
        "  '''Расчет пропускной способности образца.\n",
        "  Аргументы:\n",
        "  k - проницаемость, мД\n",
        "  l - длина, мм\n",
        "  d - диаметр, мм\n",
        "  mu = 1 - вязкость\n",
        "  dp = 1 - перепад давления\n",
        "  '''\n",
        "  v = k*1e-15/(mu*1e-3)*(dp*1e5/(l*1e-3))\n",
        "  q = pi*(d*1e-3)**2/4*v\n",
        "  return q"
      ],
      "metadata": {
        "id": "2G0eHLpCKe8y"
      },
      "execution_count": null,
      "outputs": []
    },
    {
      "cell_type": "markdown",
      "source": [
        "В этом случае для значений вязкости и перепада давления (если эти аргументы не указаны), будут использоваться значения по умолчанию. Т.е. расчет пропускной способности третьего образца по воде при единичном перепаде давления будет следующим"
      ],
      "metadata": {
        "id": "Row-Btmy5rA8"
      }
    },
    {
      "cell_type": "markdown",
      "source": [
        "В приведенном выше объявлении функции использована возможность **документирования кода**. Если после заголовка функции ввести строковый литерал, то он будет интерпретироваться как строки документирования. Для одиночной строки используются одинарные кавычки, для многострочного - тройные."
      ],
      "metadata": {
        "id": "oJZWcXHA7C4O"
      }
    },
    {
      "cell_type": "code",
      "source": [
        "x = rate(perm[2], length[2], diam[2])\n",
        "print(x)"
      ],
      "metadata": {
        "colab": {
          "base_uri": "https://localhost:8080/"
        },
        "outputId": "0090a007-4b71-4de7-ff2f-59f597f8ed7b",
        "id": "roXDJ-1e6XdU"
      },
      "execution_count": null,
      "outputs": [
        {
          "output_type": "stream",
          "name": "stdout",
          "text": [
            "9.998391737200285e-07\n"
          ]
        }
      ]
    },
    {
      "cell_type": "markdown",
      "source": [
        "Теперь, имея функцию для расчета пропускной способности образцов, мы может вызывать ее неоднократно. Функции - важный инструмент **структурирования кода**."
      ],
      "metadata": {
        "id": "FtDbseY4U2JO"
      }
    },
    {
      "cell_type": "markdown",
      "source": [
        "**Самостоятельно**\n",
        "\n",
        "> Добавьте во все списки данные для еще одного образца и рассчитайте для него пропускную способность по воде и по нефти (вязкость нефти примите равной последнему номеру вашей зачетной книжки (при нуле возьмите 10).\n",
        "\n",
        "|Образец|Скважина|Длина, мм|Диаметр, мм|Масса, г|Проницаемость, мД|\n",
        "|-|-|-|-|-|-|\n",
        "|15|N-2H|68.52|30.21|67.5641|125.6|\n",
        "\n"
      ],
      "metadata": {
        "id": "BaaoQNtZ70qD"
      }
    },
    {
      "cell_type": "markdown",
      "source": [
        "Посмотрим внимательно на все переменные, используемые в нашей функции. Все переменные внутри функции, кроме `pi`, являются **локальными**. Точнее будет сказать, что они определелены только в **области видимости** данной функции. Это означает, что даже `q` (возращаемое значение) не видно в **области видимости основного модуля (глобальной области видимости)** (основной модуль - это наша программа). Т.е. нельзя, например, написать."
      ],
      "metadata": {
        "id": "erqgYWHV_HKc"
      }
    },
    {
      "cell_type": "code",
      "source": [
        "print(q)"
      ],
      "metadata": {
        "colab": {
          "base_uri": "https://localhost:8080/",
          "height": 141
        },
        "id": "hkVTviRZACkw",
        "outputId": "4f2ec6a7-4295-40d0-faf7-6a88c8f5068c"
      },
      "execution_count": null,
      "outputs": [
        {
          "output_type": "error",
          "ename": "NameError",
          "evalue": "name 'q' is not defined",
          "traceback": [
            "\u001b[0;31m---------------------------------------------------------------------------\u001b[0m",
            "\u001b[0;31mNameError\u001b[0m                                 Traceback (most recent call last)",
            "\u001b[0;32m<ipython-input-46-996617e96a38>\u001b[0m in \u001b[0;36m<cell line: 1>\u001b[0;34m()\u001b[0m\n\u001b[0;32m----> 1\u001b[0;31m \u001b[0mprint\u001b[0m\u001b[0;34m(\u001b[0m\u001b[0mq\u001b[0m\u001b[0;34m)\u001b[0m\u001b[0;34m\u001b[0m\u001b[0;34m\u001b[0m\u001b[0m\n\u001b[0m",
            "\u001b[0;31mNameError\u001b[0m: name 'q' is not defined"
          ]
        }
      ]
    },
    {
      "cell_type": "markdown",
      "source": [
        "Это вызовет ошибку, поскольку инструкция `print(q)` введена в глобальной области видимости. В локальной области функции вызов `print(q)`, конечно, ошибки не вызовет."
      ],
      "metadata": {
        "id": "RYeuFA_vAHYi"
      }
    },
    {
      "cell_type": "markdown",
      "source": [
        "**Самостоятельно**\n",
        "\n",
        "> Обьявите функцию для расчета порового объема образца.\n",
        "\n"
      ],
      "metadata": {
        "id": "hadAMwb3Bf_D"
      }
    },
    {
      "cell_type": "markdown",
      "source": [
        "Модуль `math` входит в стандрартную библиотеку модулей, поставляемую вместе и интерпретатором. Посмотрим \"состав\" модуля."
      ],
      "metadata": {
        "id": "SU_0vx0DssRE"
      }
    },
    {
      "cell_type": "markdown",
      "source": [
        "Пишем"
      ],
      "metadata": {
        "id": "TNBR9yqGu4Xj"
      }
    },
    {
      "cell_type": "code",
      "source": [
        "import math"
      ],
      "metadata": {
        "id": "Ck1MXbheR0Wt"
      },
      "execution_count": null,
      "outputs": []
    },
    {
      "cell_type": "markdown",
      "source": [
        "Введенная инструкция импортирует модуль полностью, со всеми его **атрибутами**, в отличие от введенной ранее инструкции `from math import pi` в результате которой был импортировать только атрибут `pi`."
      ],
      "metadata": {
        "id": "gmLUjWlkvh-K"
      }
    },
    {
      "cell_type": "markdown",
      "source": [
        "Для обращения к импортированным атрибутам модуля используется оператор `.`. Например для получения константы `pi` можно написать"
      ],
      "metadata": {
        "id": "VbcgPSTawavL"
      }
    },
    {
      "cell_type": "code",
      "source": [
        "print(math.pi)"
      ],
      "metadata": {
        "colab": {
          "base_uri": "https://localhost:8080/"
        },
        "id": "FPrINe2LwzRg",
        "outputId": "62a48a08-4b50-407f-da3b-e027a93b458d"
      },
      "execution_count": null,
      "outputs": [
        {
          "output_type": "stream",
          "name": "stdout",
          "text": [
            "3.141592653589793\n"
          ]
        }
      ]
    },
    {
      "cell_type": "markdown",
      "source": [
        "По имени `pi` доступно то же самое значение, но оно, конечно, осталось с предыдущего импорта."
      ],
      "metadata": {
        "id": "YJlSf0vPxTqE"
      }
    },
    {
      "cell_type": "markdown",
      "source": [
        "Модуль `math` содержит ряд базовых функций. Воспользуемся одной из них"
      ],
      "metadata": {
        "id": "x-6MfPPvxfPT"
      }
    },
    {
      "cell_type": "code",
      "source": [
        "print(math.sin(math.pi))"
      ],
      "metadata": {
        "colab": {
          "base_uri": "https://localhost:8080/"
        },
        "id": "VSTZU992R2Wu",
        "outputId": "7569b4b3-f5ff-4c36-87e8-7efe3cf49631"
      },
      "execution_count": null,
      "outputs": [
        {
          "output_type": "stream",
          "name": "stdout",
          "text": [
            "1.2246467991473532e-16\n"
          ]
        }
      ]
    },
    {
      "cell_type": "markdown",
      "source": [
        "В данном случае атрибутом модуля является функция $sin(x)$. Обратите внимание на результат: в данном случае он близок, но не равен нулю."
      ],
      "metadata": {
        "id": "di0VV0KGxyod"
      }
    },
    {
      "cell_type": "markdown",
      "source": [
        "По своей сути, модули также являются классами. Для просмотра атрибутов класса можно воспользоваться функцией `dir`."
      ],
      "metadata": {
        "id": "iCHyDqXWyVQJ"
      }
    },
    {
      "cell_type": "code",
      "source": [
        "dir(math)"
      ],
      "metadata": {
        "id": "QtseGQ1zR_Ma",
        "colab": {
          "base_uri": "https://localhost:8080/"
        },
        "outputId": "e113842e-5ace-48d9-b9b2-2e8e4e80fc4e"
      },
      "execution_count": null,
      "outputs": [
        {
          "output_type": "execute_result",
          "data": {
            "text/plain": [
              "['__doc__',\n",
              " '__loader__',\n",
              " '__name__',\n",
              " '__package__',\n",
              " '__spec__',\n",
              " 'acos',\n",
              " 'acosh',\n",
              " 'asin',\n",
              " 'asinh',\n",
              " 'atan',\n",
              " 'atan2',\n",
              " 'atanh',\n",
              " 'ceil',\n",
              " 'comb',\n",
              " 'copysign',\n",
              " 'cos',\n",
              " 'cosh',\n",
              " 'degrees',\n",
              " 'dist',\n",
              " 'e',\n",
              " 'erf',\n",
              " 'erfc',\n",
              " 'exp',\n",
              " 'expm1',\n",
              " 'fabs',\n",
              " 'factorial',\n",
              " 'floor',\n",
              " 'fmod',\n",
              " 'frexp',\n",
              " 'fsum',\n",
              " 'gamma',\n",
              " 'gcd',\n",
              " 'hypot',\n",
              " 'inf',\n",
              " 'isclose',\n",
              " 'isfinite',\n",
              " 'isinf',\n",
              " 'isnan',\n",
              " 'isqrt',\n",
              " 'lcm',\n",
              " 'ldexp',\n",
              " 'lgamma',\n",
              " 'log',\n",
              " 'log10',\n",
              " 'log1p',\n",
              " 'log2',\n",
              " 'modf',\n",
              " 'nan',\n",
              " 'nextafter',\n",
              " 'perm',\n",
              " 'pi',\n",
              " 'pow',\n",
              " 'prod',\n",
              " 'radians',\n",
              " 'remainder',\n",
              " 'sin',\n",
              " 'sinh',\n",
              " 'sqrt',\n",
              " 'tan',\n",
              " 'tanh',\n",
              " 'tau',\n",
              " 'trunc',\n",
              " 'ulp']"
            ]
          },
          "metadata": {},
          "execution_count": 50
        }
      ]
    },
    {
      "cell_type": "markdown",
      "source": [
        "В результате работы функции получаем список констант и функций модуля."
      ],
      "metadata": {
        "id": "HXnKBgSJzfQE"
      }
    },
    {
      "cell_type": "markdown",
      "source": [
        "**Самостоятельно**\n",
        "\n",
        "> Используя функции модуля рассчитайте выражение $$y = e^{\\sqrt{x}}$$ где $x$ - последняя цифра зачетной книжки\n",
        "\n"
      ],
      "metadata": {
        "id": "hAZF7naWzrQu"
      }
    },
    {
      "cell_type": "markdown",
      "source": [
        "Для того, чтобы импортировать все атрибуты модуля в область видимости основного модуля (т.е. нашей программы), можно воспользоваться следующей формой"
      ],
      "metadata": {
        "id": "ffIn02lX4X5l"
      }
    },
    {
      "cell_type": "code",
      "source": [
        "from math import *"
      ],
      "metadata": {
        "id": "xYJZdyX_SGxA"
      },
      "execution_count": null,
      "outputs": []
    },
    {
      "cell_type": "markdown",
      "source": [
        "Теперь все атрибуты модуля `math` доступны без указания имени `math`, например"
      ],
      "metadata": {
        "id": "0HPt1LmS4xCb"
      }
    },
    {
      "cell_type": "code",
      "source": [
        "y = sin(exp(e))\n",
        "print(y)"
      ],
      "metadata": {
        "colab": {
          "base_uri": "https://localhost:8080/"
        },
        "id": "qKjYV5Nf6Un0",
        "outputId": "6ff1a3c0-e70a-4b11-efc3-7eb6d84c667d"
      },
      "execution_count": null,
      "outputs": [
        {
          "output_type": "stream",
          "name": "stdout",
          "text": [
            "0.5258388577743273\n"
          ]
        }
      ]
    },
    {
      "cell_type": "markdown",
      "source": [
        "Получить список всех артибутов основного модуля можно, вызвав функцию `dir()` с пустым списком аргументов."
      ],
      "metadata": {
        "id": "PbwKot_C8zoX"
      }
    },
    {
      "cell_type": "code",
      "source": [
        "print(dir())"
      ],
      "metadata": {
        "id": "VbCLz_MJSWAJ",
        "colab": {
          "base_uri": "https://localhost:8080/"
        },
        "outputId": "ef277a1c-4dbb-4c80-bbd9-7770eebb5244"
      },
      "execution_count": null,
      "outputs": [
        {
          "output_type": "stream",
          "name": "stdout",
          "text": [
            "['ID', 'In', 'Out', '_', '_20', '_50', '__', '___', '__builtin__', '__builtins__', '__doc__', '__loader__', '__name__', '__package__', '__spec__', '_dh', '_i', '_i1', '_i10', '_i11', '_i12', '_i13', '_i14', '_i15', '_i16', '_i17', '_i18', '_i19', '_i2', '_i20', '_i21', '_i22', '_i23', '_i24', '_i25', '_i26', '_i27', '_i28', '_i29', '_i3', '_i30', '_i31', '_i32', '_i33', '_i34', '_i35', '_i36', '_i37', '_i38', '_i39', '_i4', '_i40', '_i41', '_i42', '_i43', '_i44', '_i45', '_i46', '_i47', '_i48', '_i49', '_i5', '_i50', '_i51', '_i52', '_i53', '_i6', '_i7', '_i8', '_i9', '_ih', '_ii', '_iii', '_oh', 'a', 'acos', 'acosh', 'area', 'asin', 'asinh', 'atan', 'atan2', 'atanh', 'ceil', 'comb', 'copysign', 'cos', 'cosh', 'd', 'degrees', 'dens', 'diam', 'dist', 'e', 'erf', 'erfc', 'exit', 'exp', 'expm1', 'fabs', 'factorial', 'floor', 'fmod', 'frexp', 'fsum', 'gamma', 'gcd', 'get_ipython', 'hypot', 'inf', 'isclose', 'isfinite', 'isinf', 'isnan', 'isqrt', 'lcm', 'ldexp', 'length', 'lgamma', 'log', 'log10', 'log1p', 'log2', 'mass', 'math', 'modf', 'nan', 'nextafter', 'perm', 'pi', 'pow', 'prod', 'quit', 'radians', 'rate', 'remainder', 'sin', 'sinh', 'sqrt', 'tan', 'tanh', 'tau', 'trunc', 'ulp', 'wells', 'x', 'y']\n"
          ]
        }
      ]
    },
    {
      "cell_type": "markdown",
      "source": [
        "###Итог работы"
      ],
      "metadata": {
        "id": "gMDLRCSlZKE-"
      }
    },
    {
      "cell_type": "markdown",
      "source": [
        "Сохрание файл работы с именем ***'Фамилия (лабораторная 2, аудиторка)'***"
      ],
      "metadata": {
        "id": "16YMJUDQqrIP"
      }
    },
    {
      "cell_type": "markdown",
      "source": [
        "По ссылке\n",
        "\n",
        "https://drive.google.com/drive/folders/11FMPJOTj8cTqxha0GxGaNBe2Mkq8LM8E?usp=sharing\n",
        "\n",
        "находится папка для лабораторных работ. Зайдите в папку вашей группы и выгрузите ваш файл."
      ],
      "metadata": {
        "id": "wlmtWkwzqTHq"
      }
    },
    {
      "cell_type": "markdown",
      "source": [
        "###Домашка"
      ],
      "metadata": {
        "id": "qjUnBPTkY5_3"
      }
    },
    {
      "cell_type": "markdown",
      "source": [
        "Читаем\n",
        "\n",
        "\n",
        "---\n",
        "\n",
        "\n"
      ],
      "metadata": {
        "id": "KpLmBo36-rrY"
      }
    },
    {
      "cell_type": "markdown",
      "source": [
        "\n",
        "\n",
        "* [Лутц М. Изучаем Python, 3-е издание – Пер. с англ. – СПб.: Символ-Плюс, 2009.](https://disk.yandex.ru/i/VR9elefyR0Ig8Q) - минимум до страницы 396, лучше - главу IV полностью."
      ],
      "metadata": {
        "id": "Eu6enr8738Me"
      }
    },
    {
      "cell_type": "markdown",
      "source": [
        "Пишем\n",
        "\n",
        "\n",
        "---\n",
        "\n",
        "\n"
      ],
      "metadata": {
        "id": "TsviW_FD-tAw"
      }
    },
    {
      "cell_type": "markdown",
      "source": [
        "####Вариант 1"
      ],
      "metadata": {
        "id": "0ElNuYDEclVn"
      }
    },
    {
      "cell_type": "markdown",
      "source": [
        "Ниже в таблице приведены свойства пластов нефтяного месторождения.\n",
        "\n",
        "\n"
      ],
      "metadata": {
        "id": "tWOeWkFkG--O"
      }
    },
    {
      "cell_type": "markdown",
      "source": [
        "|Пласт|Глубина залегания, м|Площадь нефтегазоносности, тыс. кв. м|Средняя нефтенасыщенная толщина, м|Пористость, %|Начальная пластовая температура, С|\n",
        "|-|-|-|-|-|-|\n",
        "|Ia|2635|45913|6.9|14|60|\n",
        "|Iвв|2665|29794|7.1|13|62|\n",
        "|Iв0|2695|17950|30.7|13|62|"
      ],
      "metadata": {
        "id": "zsfY75zfKeYp"
      }
    },
    {
      "cell_type": "markdown",
      "source": [
        "Выполните следующее:\n",
        "\n",
        "* сохраните данные по пластам в списках\n",
        "* сформируйте список, который хранит градиенты температур (градиент температур - это отношение температуры к глубине залегания)\n",
        "* обьявите функцию, которая рассчитывает поровый объем пласта по формуле $$PV = s\\cdot h \\cdot m$$\n",
        "\n",
        "где $s$ - площадь, $h$ - толщина, $m$ - пористость."
      ],
      "metadata": {
        "id": "zx14O8pKKsdH"
      }
    },
    {
      "cell_type": "markdown",
      "source": [
        "####Вариант 2"
      ],
      "metadata": {
        "id": "HUjvYBsTX9qb"
      }
    },
    {
      "cell_type": "markdown",
      "source": [
        "В таблице приведен состав газа.\n",
        "\n",
        "\n"
      ],
      "metadata": {
        "id": "r-Xpm8_lX9qc"
      }
    },
    {
      "cell_type": "markdown",
      "source": [
        "|Компонент|Обьемная доля, %|\n",
        "|-|-|\n",
        "|Углекислый газ|1.17|\n",
        "|Азот|1.61|\n",
        "|Гелий|0.01|\n",
        "|Метан|48.47|\n",
        "|Этан|20.37|\n",
        "|Пропан|18.96|\n",
        "|Изобутан|2.20|\n",
        "|н-Бутан|5.31|\n",
        "|Изопентан|1.00|\n",
        "|н-Пентан|0.65|\n",
        "|Гексан + высшие|0.27|\n",
        "\n"
      ],
      "metadata": {
        "id": "V5UZjUGCX9qd"
      }
    },
    {
      "cell_type": "markdown",
      "source": [
        "Выполните следующее:\n",
        "\n",
        "* сохраните данные по именам компонентов и доле в списках\n",
        "* проверьте близость суммы долей к 100 процентам\n",
        "* пересчитайте объемные доли в массовые и сохраните их в отдельный список\n",
        "* обьявите функцию, которая по составу газа возвращает имя компонента, массовая доля которого максимальна"
      ],
      "metadata": {
        "id": "y_5UucFaX9qd"
      }
    },
    {
      "cell_type": "markdown",
      "source": [
        "####Вариант 3"
      ],
      "metadata": {
        "id": "WQZiL-kNEDAU"
      }
    },
    {
      "cell_type": "markdown",
      "source": [
        "В таблице приведены результаты исследования вязкости нефти при различных давлениях."
      ],
      "metadata": {
        "id": "gDXmDmH-EFwa"
      }
    },
    {
      "cell_type": "markdown",
      "source": [
        "|Давление, МПа|Вязкость, мПа*с|\n",
        "|-|-|\n",
        "|18.72|14.11|\n",
        "|14.71|13.24|\n",
        "|10.79|12.44|\n",
        "|6.86|11.36|"
      ],
      "metadata": {
        "id": "MPkOxweAFj7U"
      }
    },
    {
      "cell_type": "markdown",
      "source": [
        "Выполните следующее:\n",
        "\n",
        "* сохраните данные в списках\n",
        "* рассчитайте кинематическую вязкость нефти (плотность примите равной 882,1 кг/м3)\n",
        "* обьявите функцию, которая рассчитывает вязкость при давлении несыщения путем экстраполяции данных (давление насыщения примите равным 6.04 МПа)"
      ],
      "metadata": {
        "id": "fa2WXQt6F507"
      }
    },
    {
      "cell_type": "markdown",
      "source": [
        "####Вариант 4"
      ],
      "metadata": {
        "id": "jwidT48YLydE"
      }
    },
    {
      "cell_type": "markdown",
      "source": [
        "В таблице приведены результаты исследования зависимости плотности дегазированной нефти от температуры"
      ],
      "metadata": {
        "id": "RayJMgVbMry3"
      }
    },
    {
      "cell_type": "markdown",
      "source": [
        "|Температура, С|Плотность, кг/м3|\n",
        "|-|-|\n",
        "|15|924.1|\n",
        "|20|920.7|\n",
        "|30|913.4|\n",
        "|40|906.3|\n",
        "|50|899.7|"
      ],
      "metadata": {
        "id": "ES3Vp3GzM3Yn"
      }
    },
    {
      "cell_type": "markdown",
      "source": [
        "Выполните следующее:\n",
        "\n",
        "* сохраните данные в списках\n",
        "* рассчитайте температурный коэффициент изменения плотности нефти\n",
        "* обьявите функцию, которая производит пересчет заданного объема нефти при одной температуре, на другие температурные условия"
      ],
      "metadata": {
        "id": "8JYqKOFVNM_w"
      }
    }
  ]
}